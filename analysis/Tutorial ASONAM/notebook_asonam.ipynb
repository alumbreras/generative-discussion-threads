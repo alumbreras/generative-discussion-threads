{
 "cells": [
  {
   "cell_type": "markdown",
   "metadata": {},
   "source": [
    "# Introduction\n",
    "\n",
    "In this tutorial, we will learn to model online forums. "
   ]
  },
  {
   "cell_type": "code",
   "execution_count": null,
   "metadata": {
    "scrolled": true
   },
   "outputs": [
    {
     "name": "stderr",
     "output_type": "stream",
     "text": [
      "Loading genthreads\n"
     ]
    }
   ],
   "source": [
    "devtools::load_all() # load the functions of the package\n",
    "\n",
    "# Requirements:\n",
    "#install.packages(\"igraph\")\n",
    "#install.packages(\"ggplot2\")\n",
    "#install.packages(\"tidyr\")\n",
    "#install.packages(\"dplyr\")"
   ]
  },
  {
   "cell_type": "markdown",
   "metadata": {},
   "source": [
    "## Vector representation of a tree\n",
    "\n",
    "We will first learn how to represent the structure and dynamics of an online conversations in a very simple way. We will create its **parents vector**. The parents vector is a vector $\\boldsymbol{\\pi} = (\\pi_1,...,\\pi_2)$ where $\\pi_t$ contains the parent of node $t$. Our package contains a function that plots the tree corresponding to a parents vector. For the above tree, we would have:"
   ]
  },
  {
   "cell_type": "code",
   "execution_count": null,
   "metadata": {},
   "outputs": [],
   "source": [
    "options(repr.plot.width=5, repr.plot.height=5)\n",
    "\n",
    "# Vector representation\n",
    "parents           <- c(1,2,2,3,4)\n",
    "\n",
    "# Plot it as a tree\n",
    "gtree             <- parents_to_tree(parents)\n",
    "V(gtree)$color    <- gray.colors(vcount(gtree)) # all nodes are grey\n",
    "V(gtree)[1]$color <- \"red\"                      # except the root\n",
    "gtree.un          <- as.undirected(gtree)       \n",
    "la                <- layout_as_tree(gtree.un, mode='out', root=1)\n",
    "plot(gtree.un, layout = la, vertex.size=15)"
   ]
  },
  {
   "cell_type": "markdown",
   "metadata": {
    "collapsed": true
   },
   "source": [
    "## A real conversation\n",
    "\n",
    "We will first load some conversations in Reddit to see what do they look like"
   ]
  },
  {
   "cell_type": "code",
   "execution_count": null,
   "metadata": {},
   "outputs": [],
   "source": [
    "data(\"df.posts.france\")\n",
    "\n",
    "df.thread <- df.posts %>%\n",
    "  group_by(thread) %>% arrange(date) %>% filter(n()>10) %>%\n",
    "  mutate(pi = as.integer(match(parent, unique(parent))-1)) %>% \n",
    "  ungroup %>%\n",
    "  arrange(thread, date)\n",
    "\n",
    "parents <- df.thread %>% filter(pi > 0) %>% group_by(thread) %>%  \n",
    "  do(thread=.$pi) %>%  ungroup()  %>%\n",
    "  lapply(function(x) {(x)})\n",
    "parents <- parents[[1]]\n",
    "\n",
    "cat('Threads:', length(parents))"
   ]
  },
  {
   "cell_type": "code",
   "execution_count": null,
   "metadata": {
    "scrolled": true
   },
   "outputs": [],
   "source": [
    "options(repr.plot.width=9, repr.plot.height=9)\n",
    "\n",
    "# Plot some threads in tree and graph representations\n",
    "\n",
    "par(mfrow = c(3,3))\n",
    "plot.tree(parents[[1]])\n",
    "plot.tree(parents[[2]])\n",
    "plot.tree(parents[[3]])\n",
    "\n",
    "plot.tree.nicely(parents[[1]])\n",
    "plot.tree.nicely(parents[[2]])\n",
    "plot.tree.nicely(parents[[3]])"
   ]
  },
  {
   "cell_type": "markdown",
   "metadata": {},
   "source": [
    "## Generating synthetic conversations with a growth model\n",
    "\n",
    "Our conversation model is as follows:\n",
    "$$\n",
    "p(\\pi_t) \\propto \\alpha d_{k,t} + \\beta_{k} + \\tau^{t-k+1}\n",
    "$$"
   ]
  },
  {
   "cell_type": "code",
   "execution_count": null,
   "metadata": {},
   "outputs": [],
   "source": [
    "options(repr.plot.width=9, repr.plot.height=9)\n",
    "\n",
    "alpha <- 1\n",
    "beta <- 1\n",
    "tau <- 0.2\n",
    "ntrees <- 100\n",
    "n = 100\n",
    "parents <- replicate(ntrees,\n",
    "                     gen.parentsvector.Gomez2013(n, alpha, beta, tau), \n",
    "                     simplify = FALSE)\n",
    "\n",
    "par(mfrow = c(3,3))\n",
    "plot.tree(parents[[1]])\n",
    "plot.tree(parents[[2]])\n",
    "plot.tree(parents[[3]])\n",
    "plot.tree(parents[[4]])\n",
    "plot.tree(parents[[5]])\n",
    "plot.tree(parents[[6]])\n",
    "plot.tree(parents[[7]])\n",
    "plot.tree(parents[[8]])\n",
    "plot.tree(parents[[9]])"
   ]
  },
  {
   "cell_type": "markdown",
   "metadata": {},
   "source": [
    "## Sanity check\n",
    "\n",
    "Before fitting our model to real data, we will perform a sanity check so see whether we can recover the parameters of ou synthetic trees."
   ]
  },
  {
   "cell_type": "code",
   "execution_count": null,
   "metadata": {},
   "outputs": [],
   "source": [
    "# Estimate paremeters ----------------------------------------------------------\n",
    "\n",
    "# Store in dataframe format. \n",
    "# Each line contains the post id, the chosen parent\n",
    "# and the features of its parent (popularity, lag, root) at the \n",
    "# moment (t) of that choice.\n",
    "df.trees <- all_parents_to_dataframe(parents)        \n",
    "head(df.trees)"
   ]
  },
  {
   "cell_type": "code",
   "execution_count": null,
   "metadata": {},
   "outputs": [],
   "source": [
    "# Estimate alpha, beta, tau parameters\n",
    "df.results <- data.frame()\n",
    "for(xp in 1:2){\n",
    "    alpha_0 <- runif(1)\n",
    "    beta_0  <- runif(1)\n",
    "    tau_0   <- runif(1, max=0.99)\n",
    "    res <- estimation_Gomez2013(df.trees = df.trees, params=list(alpha = alpha_0, beta = beta_0, tau = tau_0))\n",
    "    res\n",
    "    df.results <- rbind(df.results, res)\n",
    "}"
   ]
  },
  {
   "cell_type": "code",
   "execution_count": null,
   "metadata": {},
   "outputs": [],
   "source": [
    "df.results"
   ]
  },
  {
   "cell_type": "code",
   "execution_count": null,
   "metadata": {},
   "outputs": [],
   "source": [
    "# Estimate parameters many times with different initialization\n",
    "# to check robustness and possible bugs\n",
    "# Estimate alpha, beta, tau parameters\n",
    "alpha <- 1\n",
    "beta <- 1\n",
    "tau <- 0.5\n",
    "\n",
    "df.trees <- all_parents_to_dataframe(parents)        \n",
    "df.results <- data.frame()\n",
    "for(ntrees in c(10, 1000)){\n",
    "  # Generate trees\n",
    "  parents <- replicate(ntrees, gen.parentsvector.Gomez2013(n=100, alpha, beta, tau), simplify = FALSE)\n",
    "  df.trees <- all_parents_to_dataframe(parents)        \n",
    "    \n",
    "  # Estimate with different init parameters\n",
    "  for(xp in 1:10){\n",
    "    alpha_0 <- runif(1)\n",
    "    beta_0  <- runif(1)*10\n",
    "    tau_0   <- runif(1, max=0.99)\n",
    "    res <- estimation_Gomez2013(df.trees = df.trees, params=list(alpha = alpha_0, beta = beta_0, tau = tau_0))\n",
    "    res$ntrees <- ntrees\n",
    "    df.results <- rbind(df.results, res)\n",
    "  }\n",
    "}"
   ]
  },
  {
   "cell_type": "code",
   "execution_count": null,
   "metadata": {},
   "outputs": [],
   "source": [
    "df.results"
   ]
  },
  {
   "cell_type": "code",
   "execution_count": null,
   "metadata": {},
   "outputs": [],
   "source": [
    "options(repr.plot.width=9, repr.plot.height=4)\n",
    "\n",
    "library(tidyr)\n",
    "df.errors <- df.results \n",
    "df.errors$alpha <- df.errors$alpha - alpha\n",
    "df.errors$beta <- df.errors$beta   - beta\n",
    "df.errors$tau <- df.errors$tau     - tau\n",
    "df.errors <- gather(df.errors, param, value, -likelihood, -ntrees)\n",
    "df.errors$param <- factor(df.errors$param, levels = c(\"beta\", \"alpha\", \"tau\"))\n",
    "ggplot(df.errors, aes(x=param, y= value)) + \n",
    "  geom_point() + \n",
    "  geom_boxplot() + ylim(-5,5) +\n",
    "  facet_grid(.~ntrees) + theme_bw()"
   ]
  },
  {
   "cell_type": "markdown",
   "metadata": {},
   "source": [
    "## Find model parameters that fit real conversations \n",
    "\n",
    "Now we the parameters to the real threads."
   ]
  },
  {
   "cell_type": "code",
   "execution_count": 202,
   "metadata": {},
   "outputs": [
    {
     "name": "stdout",
     "output_type": "stream",
     "text": [
      "Threads: 17030"
     ]
    }
   ],
   "source": [
    "# Load again the real data\n",
    "data(\"df.posts.france\")\n",
    "\n",
    "df.thread <- df.posts %>%\n",
    "  group_by(thread) %>% arrange(date) %>% filter(n()>10) %>%\n",
    "  mutate(pi = as.integer(match(parent, unique(parent))-1)) %>% \n",
    "  ungroup %>%\n",
    "  arrange(thread, date)\n",
    "\n",
    "parents <- df.thread %>% filter(pi > 0) %>% group_by(thread) %>%  \n",
    "  do(thread=.$pi) %>%  ungroup()  %>%\n",
    "  lapply(function(x) {(x)})\n",
    "parents <- parents[[1]]\n",
    "\n",
    "cat('Threads:', length(parents))"
   ]
  },
  {
   "cell_type": "code",
   "execution_count": 203,
   "metadata": {},
   "outputs": [],
   "source": [
    "# Estimate paremeters ----------------------------------------------------------\n",
    "\n",
    "# Store in dataframe format. \n",
    "# Each line contains the post id, the chosen parent\n",
    "# and the features of its parent (popularity, lag, root) at the \n",
    "# moment (t) of that choice.\n",
    "df.trees <- all_parents_to_dataframe(parents)        \n",
    "\n",
    "# Estimate alpha, beta, tau parameters\n",
    "res <- estimation_Gomez2013(df.trees = df.trees, params=list(alpha=0.5, beta=0.6, tau=0.5))"
   ]
  },
  {
   "cell_type": "markdown",
   "metadata": {},
   "source": [
    "## Compare structural properties\n",
    "\n",
    "Finally, we check whether our model reproduces the structural properties of the real data."
   ]
  },
  {
   "cell_type": "code",
   "execution_count": null,
   "metadata": {
    "collapsed": true
   },
   "outputs": [],
   "source": [
    "# Generate threads with the estimated parameters\n",
    "sizes <- sapply(parents, function(x) length(x))\n",
    "parents_hat <- list()\n",
    "for(i in 1:length(sizes)){\n",
    "  parents_hat[[i]] <- gen.parentsvector.Gomez2013(sizes[i], res$alpha, res$beta, res$tau)\n",
    "}"
   ]
  },
  {
   "cell_type": "code",
   "execution_count": 178,
   "metadata": {},
   "outputs": [
    {
     "data": {
      "text/html": [
       "<ol class=list-inline>\n",
       "\t<li>1</li>\n",
       "\t<li>2</li>\n",
       "\t<li>3</li>\n",
       "\t<li>3</li>\n",
       "\t<li>3</li>\n",
       "\t<li>4</li>\n",
       "\t<li>4</li>\n",
       "\t<li>3</li>\n",
       "\t<li>3</li>\n",
       "\t<li>3</li>\n",
       "\t<li>7</li>\n",
       "\t<li>3</li>\n",
       "\t<li>3</li>\n",
       "\t<li>12</li>\n",
       "\t<li>6</li>\n",
       "\t<li>4</li>\n",
       "\t<li>8</li>\n",
       "\t<li>13</li>\n",
       "\t<li>4</li>\n",
       "\t<li>4</li>\n",
       "\t<li>13</li>\n",
       "\t<li>13</li>\n",
       "\t<li>13</li>\n",
       "\t<li>14</li>\n",
       "</ol>\n"
      ],
      "text/latex": [
       "\\begin{enumerate*}\n",
       "\\item 1\n",
       "\\item 2\n",
       "\\item 3\n",
       "\\item 3\n",
       "\\item 3\n",
       "\\item 4\n",
       "\\item 4\n",
       "\\item 3\n",
       "\\item 3\n",
       "\\item 3\n",
       "\\item 7\n",
       "\\item 3\n",
       "\\item 3\n",
       "\\item 12\n",
       "\\item 6\n",
       "\\item 4\n",
       "\\item 8\n",
       "\\item 13\n",
       "\\item 4\n",
       "\\item 4\n",
       "\\item 13\n",
       "\\item 13\n",
       "\\item 13\n",
       "\\item 14\n",
       "\\end{enumerate*}\n"
      ],
      "text/markdown": [
       "1. 1\n",
       "2. 2\n",
       "3. 3\n",
       "4. 3\n",
       "5. 3\n",
       "6. 4\n",
       "7. 4\n",
       "8. 3\n",
       "9. 3\n",
       "10. 3\n",
       "11. 7\n",
       "12. 3\n",
       "13. 3\n",
       "14. 12\n",
       "15. 6\n",
       "16. 4\n",
       "17. 8\n",
       "18. 13\n",
       "19. 4\n",
       "20. 4\n",
       "21. 13\n",
       "22. 13\n",
       "23. 13\n",
       "24. 14\n",
       "\n",
       "\n"
      ],
      "text/plain": [
       " [1]  1  2  3  3  3  4  4  3  3  3  7  3  3 12  6  4  8 13  4  4 13 13 13 14"
      ]
     },
     "metadata": {},
     "output_type": "display_data"
    }
   ],
   "source": [
    "parents_hat[[10]]"
   ]
  },
  {
   "cell_type": "code",
   "execution_count": 175,
   "metadata": {},
   "outputs": [
    {
     "data": {},
     "metadata": {},
     "output_type": "display_data"
    },
    {
     "name": "stdout",
     "output_type": "stream",
     "text": [
      "\n",
      "Processed  1000 / 17030\n",
      "Processed  2000 / 17030\n",
      "Processed  3000 / 17030\n",
      "Processed  4000 / 17030\n",
      "Processed  5000 / 17030\n",
      "Processed  6000 / 17030\n",
      "Processed  7000 / 17030\n",
      "Processed  8000 / 17030\n",
      "Processed  9000 / 17030\n",
      "Processed  10000 / 17030\n",
      "Processed  11000 / 17030\n",
      "Processed  12000 / 17030\n",
      "Processed  13000 / 17030\n",
      "Processed  14000 / 17030\n",
      "Processed  15000 / 17030\n",
      "Processed  16000 / 17030\n",
      "Processed  17000 / 17030\n",
      "Processed  1000 / 17030\n",
      "Processed  2000 / 17030\n",
      "Processed  3000 / 17030\n",
      "Processed  4000 / 17030\n",
      "Processed  5000 / 17030\n",
      "Processed  6000 / 17030\n",
      "Processed  7000 / 17030\n",
      "Processed  8000 / 17030\n",
      "Processed  9000 / 17030\n",
      "Processed  10000 / 17030\n",
      "Processed  11000 / 17030\n",
      "Processed  12000 / 17030\n",
      "Processed  13000 / 17030\n",
      "Processed  14000 / 17030\n",
      "Processed  15000 / 17030\n",
      "Processed  16000 / 17030\n",
      "Processed  17000 / 17030"
     ]
    },
    {
     "data": {},
     "metadata": {},
     "output_type": "display_data"
    },
    {
     "data": {
      "image/png": "[encoded data removed]",
      "text/plain": [
       "plot without title"
      ]
     },
     "metadata": {},
     "output_type": "display_data"
    },
    {
     "name": "stdout",
     "output_type": "stream",
     "text": [
      "\n",
      "Processed  1000 / 17030\n",
      "Processed  2000 / 17030\n",
      "Processed  3000 / 17030\n",
      "Processed  4000 / 17030\n",
      "Processed  5000 / 17030\n",
      "Processed  6000 / 17030\n",
      "Processed  7000 / 17030\n",
      "Processed  8000 / 17030\n",
      "Processed  9000 / 17030\n",
      "Processed  10000 / 17030\n",
      "Processed  11000 / 17030\n",
      "Processed  12000 / 17030\n",
      "Processed  13000 / 17030\n",
      "Processed  14000 / 17030\n",
      "Processed  15000 / 17030\n",
      "Processed  16000 / 17030\n",
      "Processed  17000 / 17030\n",
      "Processed  1000 / 17030\n",
      "Processed  2000 / 17030\n",
      "Processed  3000 / 17030\n",
      "Processed  4000 / 17030\n",
      "Processed  5000 / 17030\n",
      "Processed  6000 / 17030\n",
      "Processed  7000 / 17030\n",
      "Processed  8000 / 17030\n",
      "Processed  9000 / 17030\n",
      "Processed  10000 / 17030\n",
      "Processed  11000 / 17030\n",
      "Processed  12000 / 17030\n",
      "Processed  13000 / 17030\n",
      "Processed  14000 / 17030\n",
      "Processed  15000 / 17030\n",
      "Processed  16000 / 17030\n",
      "Processed  17000 / 17030"
     ]
    },
    {
     "name": "stderr",
     "output_type": "stream",
     "text": [
      "Warning message in df.sizedepth$data <- \"real\":\n",
      "“Realizando coercion de LHD a una lista”Warning message in df.sizedepth_hat$data <- \"estimated\":\n",
      "“Realizando coercion de LHD a una lista”"
     ]
    },
    {
     "data": {},
     "metadata": {},
     "output_type": "display_data"
    },
    {
     "data": {
      "image/png": "[encoded data removed]",
      "text/plain": [
       "plot without title"
      ]
     },
     "metadata": {},
     "output_type": "display_data"
    },
    {
     "data": {
      "image/png": "[encoded data removed]",
      "text/plain": [
       "plot without title"
      ]
     },
     "metadata": {},
     "output_type": "display_data"
    }
   ],
   "source": [
    "# Compare structural properties ------------------------------------------------\n",
    "\n",
    "# Degree distribution\n",
    "df.degrees     <- struct_degree_distribution(parents)\n",
    "df.degrees_hat <- struct_degree_distribution(parents_hat)\n",
    "df.degrees$cumprob     <- cumsum(df.degrees$frequency/sum(df.degrees$frequency))\n",
    "df.degrees_hat$cumprob <- cumsum(\n",
    "  df.degrees_hat$frequency/sum(df.degrees_hat$frequency)\n",
    ")            \n",
    "\n",
    "df.degrees$data     <- 'real'\n",
    "df.degrees_hat$data <- 'estimated'\n",
    "df.degrees <- bind_rows(df.degrees, df.degrees_hat)\n",
    "ggplot(df.degrees, aes(x=degree, y = cumprob)) + \n",
    "  geom_point() +\n",
    "  scale_y_log10() +\n",
    "  facet_grid(.~data) +\n",
    "  theme_bw() +\n",
    "  ylab('CPF')\n",
    "\n",
    "# Subtree size distribution\n",
    "df.subtrees     <- struct_subtree_size_distribution(parents)\n",
    "df.subtrees_hat <- struct_subtree_size_distribution(parents_hat)\n",
    "df.subtrees$cumprob     <- cumsum(df.subtrees$frequency/sum(df.subtrees$frequency))\n",
    "df.subtrees_hat$cumprob <- cumsum(\n",
    "  df.subtrees_hat$frequency/sum(df.subtrees_hat$frequency)\n",
    ")        \n",
    "\n",
    "df.subtrees$data     <- 'real'\n",
    "df.subtrees_hat$data <- 'estimated'\n",
    "df.subtrees <- bind_rows(df.subtrees, df.subtrees_hat)\n",
    "ggplot(df.subtrees, aes(x=size, y = cumprob)) + \n",
    "  geom_point() +\n",
    "  scale_y_log10() +\n",
    "  facet_grid(.~data) +\n",
    "  theme_bw() +\n",
    "  ylab('CPF')\n",
    "\n",
    "\n",
    "# Size vs Depth\n",
    "df.sizedepth     <- struct_size_depth(parents)\n",
    "df.sizedepth_hat <- struct_size_depth(parents_hat)\n",
    "\n",
    "df.sizedepth$data     <- 'real'\n",
    "df.sizedepth_hat$data <- 'estimated'\n",
    "df.sizedepth <- bind_rows(df.sizedepth, df.sizedepth_hat)\n",
    "ggplot(df.sizedepth, aes(x=size, y = depth)) + \n",
    "  geom_point() +\n",
    "  #scale_y_log10() +\n",
    "  facet_grid(.~data) +\n",
    "  theme_bw() +\n",
    "  xlab(\"size\") + ylab('depth')"
   ]
  },
  {
   "cell_type": "code",
   "execution_count": null,
   "metadata": {
    "collapsed": true
   },
   "outputs": [],
   "source": []
  }
 ],
 "metadata": {
  "kernelspec": {
   "display_name": "R",
   "language": "R",
   "name": "ir"
  },
  "language_info": {
   "codemirror_mode": "r",
   "file_extension": ".r",
   "mimetype": "text/x-r-source",
   "name": "R",
   "pygments_lexer": "r",
   "version": "3.4.2"
  }
 },
 "nbformat": 4,
 "nbformat_minor": 2
}
